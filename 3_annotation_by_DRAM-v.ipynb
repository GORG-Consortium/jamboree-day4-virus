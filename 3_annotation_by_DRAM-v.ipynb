{
 "cells": [
  {
   "cell_type": "code",
   "execution_count": null,
   "id": "d564c838-d9f8-4d01-977e-0a5868964ade",
   "metadata": {
    "tags": []
   },
   "outputs": [],
   "source": [
    "import pandas as pd\n",
    "import os\n",
    "\n",
    "sag = '{SAG ID here}'"
   ]
  },
  {
   "cell_type": "markdown",
   "id": "7a9e512e-4c66-43be-80f3-8ab8a0accb60",
   "metadata": {},
   "source": [
    "In this notebook, we will run the quality controlled virus candidates through DRAM-v to look more closely at annotations on these viral contigs.\n",
    "\n",
    "This notebook will go through the following steps:\n",
    "\n",
    "7. Run viral contigs through DRAM-v\n",
    "8. Summarize results and assess identified virus contigs.\n",
    "\n",
    "\n",
    "First let's import our important variables into this notebook:"
   ]
  },
  {
   "cell_type": "code",
   "execution_count": null,
   "id": "6b6ff9ca-6204-4418-a78c-ff487b3d36ad",
   "metadata": {
    "tags": []
   },
   "outputs": [],
   "source": [
    "# setting a working subdirectory for virus finding\n",
    "sagdir = \"{}_vfinding\".format(sag)\n",
    "\n",
    "# setting a location to place SAG contigs\n",
    "sag_contigs = os.path.join(sagdir, '{}_contigs.fasta'.format(sag))"
   ]
  },
  {
   "cell_type": "markdown",
   "id": "272a85d3-01ee-4746-9d8e-655ab5817ca9",
   "metadata": {},
   "source": [
    "In the last notebook, we put together an input file for DRAM-v: "
   ]
  },
  {
   "cell_type": "code",
   "execution_count": null,
   "id": "9f458754-c808-405d-bd7e-f243200852b8",
   "metadata": {
    "tags": []
   },
   "outputs": [],
   "source": [
    "dramv_infasta = os.path.join(sagdir, '{}_cvpassing_vcandidates.fasta'.format(sag))"
   ]
  },
  {
   "cell_type": "markdown",
   "id": "72af1314-69e5-4ad4-8479-84539bb6c808",
   "metadata": {},
   "source": [
    "#### DRAM-v"
   ]
  },
  {
   "cell_type": "code",
   "execution_count": null,
   "id": "fc83c59c-06c7-486f-8e20-0f968aa86982",
   "metadata": {
    "tags": []
   },
   "outputs": [],
   "source": [
    "dram_outdir = os.path.join(sagdir, \"dramv\")"
   ]
  },
  {
   "cell_type": "markdown",
   "id": "94a0413f-34c8-4cfd-8664-5afbf7437766",
   "metadata": {},
   "source": [
    "We'll want to work in the DRAM conda environment to run this software in a terminal, rather than in this notebook. Load this environment in terminal by typing:\n",
    "\n",
    "```\n",
    "source activate /mnt/storage/envs/dram\n",
    "```\n",
    "\n",
    "The general command for dram-v is:\n",
    "```\n",
    "DRAM-v.py annotate -i {contig} -o {outdir} --min_contig_size 2000 --low_mem_mode --threads {threads}\"\n",
    "```\n",
    "\n",
    "To run for your SAG, enter the printed output from the below line into your terminal:"
   ]
  },
  {
   "cell_type": "code",
   "execution_count": null,
   "id": "170f49ff-4ac2-493e-a999-7e343390e4e1",
   "metadata": {
    "tags": []
   },
   "outputs": [],
   "source": [
    "print('DRAM-v.py annotate -i {dramv_infasta} -o {dram_outdir} --min_contig_size 2000 --low_mem_mode --threads 2'.format(**locals()))"
   ]
  },
  {
   "cell_type": "markdown",
   "id": "74f4571c-824e-4bb3-8929-abad83bb1093",
   "metadata": {},
   "source": [
    "Now let's check out DRAMv's outputs:"
   ]
  },
  {
   "cell_type": "code",
   "execution_count": null,
   "id": "61e9315d-59dc-43a4-a308-06f05bb02295",
   "metadata": {
    "tags": []
   },
   "outputs": [],
   "source": [
    "!ls {sagdir}/dramv/"
   ]
  },
  {
   "cell_type": "markdown",
   "id": "70280d3b-537f-44c6-93a7-3583d0a57b0f",
   "metadata": {},
   "source": [
    "DRAM-v has summarizing functions, but requries outputs from specific virus finders. Since we are using a blend of several, we cannot use DRAM to summarize the annotation results.  Let's check them out ourselves."
   ]
  },
  {
   "cell_type": "code",
   "execution_count": null,
   "id": "691e04a8-2866-4f42-a38c-b799584d0cab",
   "metadata": {
    "tags": []
   },
   "outputs": [],
   "source": [
    "andf = pd.read_csv(os.path.join(dram_outdir, 'annotations.tsv'), sep = \"\\t\")\n",
    "andf = andf.rename(columns = {'Unnamed: 0':'orfid'})"
   ]
  },
  {
   "cell_type": "markdown",
   "id": "095af10e-5630-494b-b841-37d65f4e2531",
   "metadata": {
    "tags": []
   },
   "source": [
    "With this table, we can start to figure out if our candidate contigs are, indeed viral."
   ]
  },
  {
   "cell_type": "markdown",
   "id": "2c9475f8-abf7-4577-a725-f210635fa164",
   "metadata": {},
   "source": [
    "let's look at the columns"
   ]
  },
  {
   "cell_type": "code",
   "execution_count": null,
   "id": "19ca4f99-a45d-47c2-a9a1-3c568a06e48c",
   "metadata": {
    "tags": []
   },
   "outputs": [],
   "source": [
    "andf.columns"
   ]
  },
  {
   "cell_type": "markdown",
   "id": "cfbbe18a-e223-4dc3-8836-84b140d95708",
   "metadata": {},
   "source": [
    "DRAM-v compares ORFs to a number of different databases. It can be hard to pull together annotations from looking at this raw annotation file.  Let's parse a couple of the columns to pull out annotations specifically, and create a summary column with the most descriptive annotation."
   ]
  },
  {
   "cell_type": "code",
   "execution_count": null,
   "id": "67570ea3-da62-40a7-a619-e29e36f0440d",
   "metadata": {
    "tags": []
   },
   "outputs": [],
   "source": [
    "#andf['vogdb_text'] = [\" \".join(i.split(\" \")[1:-1]).replace(\";\",'') if type(i) != float else i for i in andf['vogdb_description']]\n",
    "#andf.loc[andf['vogdb_categories'].str.contains('Xr') | andf['vogdb_categories'].str.contains('Xs') | andf['vogdb_categories'].str.contains('Xh') |  adf['vogdb_categories'].str.contains('Xp'), 'vog_db_vir_protein' ] = 1\n",
    "#andf['vog_db_vir_protein'] = adf['vog_db_vir_protein'].fillna(0)\n",
    "\n",
    "andf['viral_hit_genome'] = [i.split(\"[\")[-1].split(\"]\")[0] if type(i) != float else i for i in andf['viral_hit']]\n",
    "andf['viral_hit_gene_desc'] = [\" \".join(i.split(\"[\")[0].split(\" \")[1:]) if type(i) != float else i for i in andf['viral_hit']]\n",
    "\n",
    "\n",
    "import math\n",
    "anns = []\n",
    "source = []\n",
    "\n",
    "for j, l in andf.iterrows():\n",
    "    annotated = False\n",
    "    for i in ['viral_hit_gene_desc', 'pfam_hits','kegg_hit']:\n",
    "        #if l[i] != math.nan and 'hypothetical' not in l[i]:\n",
    "        if type(l[i]) != float:\n",
    "            if 'hypothetical' not in l[i]:\n",
    "                anns.append(l[i])\n",
    "                source.append(i)\n",
    "                annotated = True\n",
    "                break\n",
    "    if not annotated:\n",
    "        \n",
    "        #if type(l['feature_max']) != float:\n",
    "        #    anns.append(l['feature_max'])\n",
    "        #    source.append('phanns')\n",
    "        #    annotated = True\n",
    "            \n",
    "        #else:\n",
    "        for i in ['viral_hit_gene_desc', 'pfam_hits','kegg_hit']:\n",
    "            if type(l[i]) != float:\n",
    "                anns.append(l[i])\n",
    "                source.append(i)\n",
    "                annotated = True\n",
    "                break\n",
    "    if not annotated:\n",
    "        anns.append('')\n",
    "        source.append('')\n",
    "        \n",
    "andf['annotation'] = anns\n",
    "andf['annotation_source'] = source"
   ]
  },
  {
   "cell_type": "markdown",
   "id": "20142287-5ecd-4d72-953c-3e7d47feeae6",
   "metadata": {},
   "source": [
    "It's time to take a manual look at these data, and take stock of what these sequences might actually be.  Let's save this dataframe, focusing on columns that we want to scrutinze more closely."
   ]
  },
  {
   "cell_type": "code",
   "execution_count": null,
   "id": "a2730f81-b89a-4906-8850-f833b8b80ef2",
   "metadata": {
    "tags": []
   },
   "outputs": [],
   "source": [
    "andf[['orfid','scaffold','viral_hit_genome','annotation','annotation_source','is_transposon', 'amg_flags']].to_csv(os.path.join(sagdir, '{}_vcandidate_annotations.csv'.format(sag)))"
   ]
  },
  {
   "cell_type": "markdown",
   "id": "5ddc562c-79ed-4cfd-bd7e-eea6d41b42a0",
   "metadata": {},
   "source": [
    "Questions:\n",
    "\n",
    "Do any of your contigs contain phage structural genes?\n",
    "(e.g. capsid, tail, collar, baseplate, wedge, integrase, terminase)\n",
    "\n",
    "Can you observe any patterns in your identified viral candidate contigs?\n",
    "\n",
    "After looking at the annotations, how many contigs in your SAG do you believe are viral?"
   ]
  },
  {
   "cell_type": "code",
   "execution_count": null,
   "id": "b65f4712-c6e4-4e48-a9dc-83e09787eec0",
   "metadata": {},
   "outputs": [],
   "source": []
  }
 ],
 "metadata": {
  "kernelspec": {
   "display_name": "GORGpy",
   "language": "python",
   "name": "gorgpy"
  },
  "language_info": {
   "codemirror_mode": {
    "name": "ipython",
    "version": 3
   },
   "file_extension": ".py",
   "mimetype": "text/x-python",
   "name": "python",
   "nbconvert_exporter": "python",
   "pygments_lexer": "ipython3",
   "version": "3.11.0"
  }
 },
 "nbformat": 4,
 "nbformat_minor": 5
}
